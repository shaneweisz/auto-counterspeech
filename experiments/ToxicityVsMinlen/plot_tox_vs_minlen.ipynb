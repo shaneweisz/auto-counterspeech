{
 "cells": [
  {
   "cell_type": "code",
   "execution_count": 6,
   "metadata": {},
   "outputs": [],
   "source": [
    "from pathlib import Path\n",
    "import matplotlib.pyplot as plt\n",
    "import pandas as pd\n",
    "\n",
    "\n",
    "DROPBOX_IMAGES_PATH = Path(\"/Users/shaneweisz/Dropbox/Apps/Overleaf/MPhil Thesis Automating Counterspeech/Figures\")\n",
    "\n",
    "\n",
    "tex_fonts = {\n",
    "    # Use LaTeX to write all text\n",
    "    # \"text.usetex\": True,\n",
    "    \"font.family\": \"serif\",\n",
    "    \"font.serif\": [\"Palatino\"],\n",
    "    # Use 12pt font in plots, to match 12pt font in document\n",
    "    \"axes.labelsize\": 12,\n",
    "    \"font.size\": 12,\n",
    "    # Make the legend/label fonts a little smaller\n",
    "    \"legend.fontsize\": 10,\n",
    "    \"xtick.labelsize\": 10,\n",
    "    \"ytick.labelsize\": 10,\n",
    "}\n",
    "\n",
    "\n",
    "def savefig_to_dropbox(filename):\n",
    "    full_filename = f\"{DROPBOX_IMAGES_PATH}/{filename}\"\n",
    "    plt.savefig(full_filename, bbox_inches=\"tight\")\n",
    "\n",
    "\n",
    "def set_tex_font_params():\n",
    "    plt.rcParams.update(tex_fonts)\n",
    "\n",
    "\n",
    "set_tex_font_params()\n",
    "\n",
    "FIG_WIDTH = 4.2\n",
    "FIG_HEIGHT = 3.5\n",
    "FIGSIZE = (FIG_WIDTH, FIG_HEIGHT)\n"
   ]
  },
  {
   "cell_type": "code",
   "execution_count": 7,
   "metadata": {},
   "outputs": [],
   "source": [
    "results_csv = \"results.csv\"\n",
    "df = pd.read_csv(results_csv)"
   ]
  },
  {
   "cell_type": "code",
   "execution_count": 8,
   "metadata": {},
   "outputs": [],
   "source": [
    "df[\"MinLen\"] = df[\"Model\"].apply(lambda x: int(x.split(\"minlen\")[-1]))"
   ]
  },
  {
   "cell_type": "code",
   "execution_count": 9,
   "metadata": {},
   "outputs": [
    {
     "data": {
      "text/html": [
       "<div>\n",
       "<style scoped>\n",
       "    .dataframe tbody tr th:only-of-type {\n",
       "        vertical-align: middle;\n",
       "    }\n",
       "\n",
       "    .dataframe tbody tr th {\n",
       "        vertical-align: top;\n",
       "    }\n",
       "\n",
       "    .dataframe thead th {\n",
       "        text-align: right;\n",
       "    }\n",
       "</style>\n",
       "<table border=\"1\" class=\"dataframe\">\n",
       "  <thead>\n",
       "    <tr style=\"text-align: right;\">\n",
       "      <th></th>\n",
       "      <th>Model</th>\n",
       "      <th>Fluency(%)</th>\n",
       "      <th>Toxicity(%)</th>\n",
       "      <th>BERTScore(%)</th>\n",
       "      <th>BLEU-4(%)</th>\n",
       "      <th>Dist-2(%)</th>\n",
       "      <th>Ent-4</th>\n",
       "      <th>AvgLen</th>\n",
       "      <th>MinLen</th>\n",
       "    </tr>\n",
       "  </thead>\n",
       "  <tbody>\n",
       "    <tr>\n",
       "      <th>0</th>\n",
       "      <td>DGPT-minlen15</td>\n",
       "      <td>96.7</td>\n",
       "      <td>62.2</td>\n",
       "      <td>4.5</td>\n",
       "      <td>0.8</td>\n",
       "      <td>22.1</td>\n",
       "      <td>6.1</td>\n",
       "      <td>10.8</td>\n",
       "      <td>15</td>\n",
       "    </tr>\n",
       "    <tr>\n",
       "      <th>1</th>\n",
       "      <td>DGPT-minlen40</td>\n",
       "      <td>95.8</td>\n",
       "      <td>60.4</td>\n",
       "      <td>2.7</td>\n",
       "      <td>1.5</td>\n",
       "      <td>23.9</td>\n",
       "      <td>8.4</td>\n",
       "      <td>29.5</td>\n",
       "      <td>40</td>\n",
       "    </tr>\n",
       "    <tr>\n",
       "      <th>2</th>\n",
       "      <td>DGPT-minlen0</td>\n",
       "      <td>95.2</td>\n",
       "      <td>10.1</td>\n",
       "      <td>9.9</td>\n",
       "      <td>0.1</td>\n",
       "      <td>26.3</td>\n",
       "      <td>5.6</td>\n",
       "      <td>4.6</td>\n",
       "      <td>0</td>\n",
       "    </tr>\n",
       "    <tr>\n",
       "      <th>3</th>\n",
       "      <td>DGPT-minlen80</td>\n",
       "      <td>92.2</td>\n",
       "      <td>59.2</td>\n",
       "      <td>-18.1</td>\n",
       "      <td>0.9</td>\n",
       "      <td>20.6</td>\n",
       "      <td>8.9</td>\n",
       "      <td>45.2</td>\n",
       "      <td>80</td>\n",
       "    </tr>\n",
       "    <tr>\n",
       "      <th>4</th>\n",
       "      <td>DGPT-minlen20</td>\n",
       "      <td>97.0</td>\n",
       "      <td>60.1</td>\n",
       "      <td>5.9</td>\n",
       "      <td>1.5</td>\n",
       "      <td>24.4</td>\n",
       "      <td>7.1</td>\n",
       "      <td>15.4</td>\n",
       "      <td>20</td>\n",
       "    </tr>\n",
       "    <tr>\n",
       "      <th>5</th>\n",
       "      <td>DGPT-minlen10</td>\n",
       "      <td>97.7</td>\n",
       "      <td>13.4</td>\n",
       "      <td>6.2</td>\n",
       "      <td>0.5</td>\n",
       "      <td>23.2</td>\n",
       "      <td>5.9</td>\n",
       "      <td>8.5</td>\n",
       "      <td>10</td>\n",
       "    </tr>\n",
       "    <tr>\n",
       "      <th>6</th>\n",
       "      <td>DGPT-minlen5</td>\n",
       "      <td>96.1</td>\n",
       "      <td>11.3</td>\n",
       "      <td>10.2</td>\n",
       "      <td>0.1</td>\n",
       "      <td>24.8</td>\n",
       "      <td>5.7</td>\n",
       "      <td>5.3</td>\n",
       "      <td>5</td>\n",
       "    </tr>\n",
       "  </tbody>\n",
       "</table>\n",
       "</div>"
      ],
      "text/plain": [
       "           Model  Fluency(%)  Toxicity(%)  BERTScore(%)  BLEU-4(%)  Dist-2(%)  \\\n",
       "0  DGPT-minlen15        96.7         62.2           4.5        0.8       22.1   \n",
       "1  DGPT-minlen40        95.8         60.4           2.7        1.5       23.9   \n",
       "2   DGPT-minlen0        95.2         10.1           9.9        0.1       26.3   \n",
       "3  DGPT-minlen80        92.2         59.2         -18.1        0.9       20.6   \n",
       "4  DGPT-minlen20        97.0         60.1           5.9        1.5       24.4   \n",
       "5  DGPT-minlen10        97.7         13.4           6.2        0.5       23.2   \n",
       "6   DGPT-minlen5        96.1         11.3          10.2        0.1       24.8   \n",
       "\n",
       "   Ent-4  AvgLen  MinLen  \n",
       "0    6.1    10.8      15  \n",
       "1    8.4    29.5      40  \n",
       "2    5.6     4.6       0  \n",
       "3    8.9    45.2      80  \n",
       "4    7.1    15.4      20  \n",
       "5    5.9     8.5      10  \n",
       "6    5.7     5.3       5  "
      ]
     },
     "execution_count": 9,
     "metadata": {},
     "output_type": "execute_result"
    }
   ],
   "source": [
    "df"
   ]
  },
  {
   "cell_type": "code",
   "execution_count": 10,
   "metadata": {},
   "outputs": [
    {
     "data": {
      "image/png": "[encoded data removed]",
      "text/plain": [
       "<Figure size 302.4x252 with 1 Axes>"
      ]
     },
     "metadata": {
      "needs_background": "light"
     },
     "output_type": "display_data"
    }
   ],
   "source": [
    "import seaborn as sns\n",
    "df.sort_values(by=\"MinLen\", inplace=True)\n",
    "df.drop(3, inplace=True, errors='ignore') # remove minlen80 row\n",
    "plt.figure(figsize=FIGSIZE)\n",
    "sns.barplot(x=\"MinLen\", y=\"Toxicity(%)\", data=df)\n",
    "plt.xlabel(\"Minimum response length (BPE tokens)\")\n",
    "plt.ylim(0, 100);\n",
    "savefig_to_dropbox(\"tox_vs_minlen.pdf\")"
   ]
  }
 ],
 "metadata": {
  "kernelspec": {
   "display_name": "Python 3.8.7 ('.venv': venv)",
   "language": "python",
   "name": "python3"
  },
  "language_info": {
   "codemirror_mode": {
    "name": "ipython",
    "version": 3
   },
   "file_extension": ".py",
   "mimetype": "text/x-python",
   "name": "python",
   "nbconvert_exporter": "python",
   "pygments_lexer": "ipython3",
   "version": "3.8.7"
  },
  "orig_nbformat": 4,
  "vscode": {
   "interpreter": {
    "hash": "b1856773c526c039172bdba64cac0da6977231b3c4a153124e672c8a61b5733f"
   }
  }
 },
 "nbformat": 4,
 "nbformat_minor": 2
}
