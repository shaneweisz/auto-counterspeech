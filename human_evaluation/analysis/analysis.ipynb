{
 "cells": [
  {
   "cell_type": "code",
   "execution_count": 2,
   "metadata": {},
   "outputs": [],
   "source": [
    "import pandas as pd\n",
    "import seaborn as sns\n",
    "import matplotlib.pyplot as plt\n",
    "import numpy as np\n",
    "import graphs_util"
   ]
  },
  {
   "cell_type": "markdown",
   "metadata": {},
   "source": [
    "# Results Plots"
   ]
  },
  {
   "cell_type": "code",
   "execution_count": 3,
   "metadata": {},
   "outputs": [
    {
     "data": {
      "text/html": [
       "<div>\n",
       "<style scoped>\n",
       "    .dataframe tbody tr th:only-of-type {\n",
       "        vertical-align: middle;\n",
       "    }\n",
       "\n",
       "    .dataframe tbody tr th {\n",
       "        vertical-align: top;\n",
       "    }\n",
       "\n",
       "    .dataframe thead th {\n",
       "        text-align: right;\n",
       "    }\n",
       "</style>\n",
       "<table border=\"1\" class=\"dataframe\">\n",
       "  <thead>\n",
       "    <tr style=\"text-align: right;\">\n",
       "      <th></th>\n",
       "      <th>Human</th>\n",
       "      <th>DGPT-Gab-MC</th>\n",
       "    </tr>\n",
       "  </thead>\n",
       "  <tbody>\n",
       "    <tr>\n",
       "      <th>1</th>\n",
       "      <td>3.94</td>\n",
       "      <td>3.47</td>\n",
       "    </tr>\n",
       "    <tr>\n",
       "      <th>2</th>\n",
       "      <td>2.86</td>\n",
       "      <td>3.65</td>\n",
       "    </tr>\n",
       "    <tr>\n",
       "      <th>3</th>\n",
       "      <td>3.22</td>\n",
       "      <td>3.74</td>\n",
       "    </tr>\n",
       "    <tr>\n",
       "      <th>4</th>\n",
       "      <td>3.42</td>\n",
       "      <td>3.32</td>\n",
       "    </tr>\n",
       "    <tr>\n",
       "      <th>5</th>\n",
       "      <td>3.39</td>\n",
       "      <td>3.50</td>\n",
       "    </tr>\n",
       "  </tbody>\n",
       "</table>\n",
       "</div>"
      ],
      "text/plain": [
       "0  Human  DGPT-Gab-MC\n",
       "1   3.94         3.47\n",
       "2   2.86         3.65\n",
       "3   3.22         3.74\n",
       "4   3.42         3.32\n",
       "5   3.39         3.50"
      ]
     },
     "execution_count": 3,
     "metadata": {},
     "output_type": "execute_result"
    }
   ],
   "source": [
    "results_file = 'aggregate_results.tsv'\n",
    "df = pd.read_csv(results_file, sep=\"\\t\", header=None, index_col=0).T\n",
    "df.head()"
   ]
  },
  {
   "cell_type": "code",
   "execution_count": 4,
   "metadata": {},
   "outputs": [
    {
     "data": {
      "text/html": [
       "<div>\n",
       "<style scoped>\n",
       "    .dataframe tbody tr th:only-of-type {\n",
       "        vertical-align: middle;\n",
       "    }\n",
       "\n",
       "    .dataframe tbody tr th {\n",
       "        vertical-align: top;\n",
       "    }\n",
       "\n",
       "    .dataframe thead th {\n",
       "        text-align: right;\n",
       "    }\n",
       "</style>\n",
       "<table border=\"1\" class=\"dataframe\">\n",
       "  <thead>\n",
       "    <tr style=\"text-align: right;\">\n",
       "      <th></th>\n",
       "      <th>Rating</th>\n",
       "      <th>System</th>\n",
       "    </tr>\n",
       "  </thead>\n",
       "  <tbody>\n",
       "    <tr>\n",
       "      <th>0</th>\n",
       "      <td>3.94</td>\n",
       "      <td>Human</td>\n",
       "    </tr>\n",
       "    <tr>\n",
       "      <th>1</th>\n",
       "      <td>2.86</td>\n",
       "      <td>Human</td>\n",
       "    </tr>\n",
       "    <tr>\n",
       "      <th>2</th>\n",
       "      <td>3.22</td>\n",
       "      <td>Human</td>\n",
       "    </tr>\n",
       "    <tr>\n",
       "      <th>3</th>\n",
       "      <td>3.42</td>\n",
       "      <td>Human</td>\n",
       "    </tr>\n",
       "    <tr>\n",
       "      <th>4</th>\n",
       "      <td>3.39</td>\n",
       "      <td>Human</td>\n",
       "    </tr>\n",
       "  </tbody>\n",
       "</table>\n",
       "</div>"
      ],
      "text/plain": [
       "0  Rating System\n",
       "0    3.94  Human\n",
       "1    2.86  Human\n",
       "2    3.22  Human\n",
       "3    3.42  Human\n",
       "4    3.39  Human"
      ]
     },
     "execution_count": 4,
     "metadata": {},
     "output_type": "execute_result"
    }
   ],
   "source": [
    "# Create a new dataframe with a Ratings column and a System column from df\n",
    "\n",
    "df_human = df[[\"Human\"]]\n",
    "df_human[\"System\"] = \"Human\"\n",
    "df_human = df_human.rename(columns={\"Human\": \"Rating\"})\n",
    "\n",
    "df_dgpt_gab_mc = df[[\"DGPT-Gab-MC\"]]\n",
    "df_dgpt_gab_mc[\"System\"] = \"DGPT-Gab-MC\"\n",
    "df_dgpt_gab_mc = df_dgpt_gab_mc.rename(columns={\"DGPT-Gab-MC\": \"Rating\"})\n",
    "\n",
    "# Concatenate the two dataframes on top of each other with unique index\n",
    "df_concat = pd.concat([df_human, df_dgpt_gab_mc], ignore_index=True)\n",
    "ratings = df_concat\n",
    "ratings.head()"
   ]
  },
  {
   "cell_type": "code",
   "execution_count": 5,
   "metadata": {},
   "outputs": [],
   "source": [
    "BINWIDTH = 0.5\n",
    "XMIN = 1\n",
    "XMAX = 5\n",
    "YMIN=0\n",
    "YMAX=45"
   ]
  },
  {
   "cell_type": "markdown",
   "metadata": {},
   "source": [
    "Notice the Human responses tail to the right, while the System responses tail to the left. The system responses are concentrated between 3 and 4, because the responses are generic and repetitive (but safe). The human responses are more variable and spread out due to more unpredictability, with a tail to the right due to some extremely high-quality responses. The system responses tail to the left, due to occasional extremely poor responses."
   ]
  },
  {
   "cell_type": "code",
   "execution_count": 6,
   "metadata": {},
   "outputs": [
    {
     "data": {
      "image/png": "[encoded data removed]",
      "text/plain": [
       "<Figure size 302.4x252 with 2 Axes>"
      ]
     },
     "metadata": {
      "needs_background": "light"
     },
     "output_type": "display_data"
    },
    {
     "data": {
      "image/png": "[encoded data removed]",
      "text/plain": [
       "<Figure size 302.4x252 with 2 Axes>"
      ]
     },
     "metadata": {
      "needs_background": "light"
     },
     "output_type": "display_data"
    }
   ],
   "source": [
    "\n",
    "FIG_WIDTH = 4.2\n",
    "FIG_HEIGHT = 3.5\n",
    "FIGSIZE = (FIG_WIDTH, FIG_HEIGHT)\n",
    "\n",
    "def plot_system(system, color=None, title=None):\n",
    "    f, (ax_box, ax_hist) = plt.subplots(2, sharex=True, gridspec_kw={\"height_ratios\": (.15, .85)}, squeeze=True, figsize=FIGSIZE)\n",
    "\n",
    "    sns.boxplot(x=df[system], ax=ax_box, color=color)\n",
    "    sns.histplot(x=df[system], kde=True, stat='percent', ax=ax_hist, bins=np.arange(XMIN, XMAX, BINWIDTH), color=color)\n",
    "\n",
    "    plt.xlim(XMIN, XMAX)\n",
    "    plt.ylim(YMIN, YMAX)\n",
    "\n",
    "    plt.title(title, y=1.35)\n",
    "\n",
    "    ax_box.set(xlabel='')\n",
    "    ax_box.set(xticks=np.arange(XMIN, XMAX+BINWIDTH, BINWIDTH));\n",
    "    ax_box.set(yticks=[])\n",
    "\n",
    "    ax_hist.set(ylabel='% of Responses')\n",
    "    ax_hist.set(xticks=np.arange(XMIN, XMAX+BINWIDTH, BINWIDTH));\n",
    "    ax_hist.set(xlabel='Rating');\n",
    "\n",
    "    \n",
    "\n",
    "plot_system(\"Human\", title=\"NGO-operator Responses\")\n",
    "plt.savefig(\"human_responses.pdf\", bbox_inches='tight')\n",
    "plot_system(\"DGPT-Gab-MC\", \"orange\", title=\"System-generated Responses\")\n",
    "plt.savefig(\"system_responses.pdf\", bbox_inches='tight')"
   ]
  },
  {
   "cell_type": "markdown",
   "metadata": {},
   "source": [
    "# Inter-Rater Reliability"
   ]
  },
  {
   "cell_type": "code",
   "execution_count": 7,
   "metadata": {},
   "outputs": [
    {
     "name": "stdout",
     "output_type": "stream",
     "text": [
      "[[ 27.75757576  38.15151515  36.33333333  27.33333333   8.42424242]\n",
      " [ 38.15151515  86.06060606 111.12121212  98.09090909  35.57575758]\n",
      " [ 36.33333333 111.12121212 189.63636364 197.06060606  72.84848485]\n",
      " [ 27.33333333  98.09090909 197.06060606 239.15151515 100.36363636]\n",
      " [  8.42424242  35.57575758  72.84848485 100.36363636  46.78787879]]\n",
      "Krippendorff's alpha: 0.21\n"
     ]
    }
   ],
   "source": [
    "from krippendorff import alpha\n",
    "\n",
    "results_file = \"results_all_raters.tsv\"\n",
    "reliability_data = pd.read_csv(results_file, sep=\"\\t\", header=None).to_numpy()\n",
    "score = alpha(reliability_data=reliability_data, level_of_measurement=\"interval\", value_domain=[1, 2, 3, 4, 5])\n",
    "print(f\"Krippendorff's alpha: {score:.2f}\")"
   ]
  }
 ],
 "metadata": {
  "kernelspec": {
   "display_name": "Python 3.8.7 ('.venv': venv)",
   "language": "python",
   "name": "python3"
  },
  "language_info": {
   "codemirror_mode": {
    "name": "ipython",
    "version": 3
   },
   "file_extension": ".py",
   "mimetype": "text/x-python",
   "name": "python",
   "nbconvert_exporter": "python",
   "pygments_lexer": "ipython3",
   "version": "3.8.7"
  },
  "orig_nbformat": 4,
  "vscode": {
   "interpreter": {
    "hash": "b1856773c526c039172bdba64cac0da6977231b3c4a153124e672c8a61b5733f"
   }
  }
 },
 "nbformat": 4,
 "nbformat_minor": 2
}
